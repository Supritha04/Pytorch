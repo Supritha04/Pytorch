{
  "nbformat": 4,
  "nbformat_minor": 0,
  "metadata": {
    "colab": {
      "provenance": [],
      "authorship_tag": "ABX9TyMEbicJzqftjB7Nzjpl4nEi",
      "include_colab_link": true
    },
    "kernelspec": {
      "name": "python3",
      "display_name": "Python 3"
    },
    "language_info": {
      "name": "python"
    }
  },
  "cells": [
    {
      "cell_type": "markdown",
      "metadata": {
        "id": "view-in-github",
        "colab_type": "text"
      },
      "source": [
        "<a href=\"https://colab.research.google.com/github/Supritha04/Pytorch/blob/main/DAY3withPyTorch.ipynb\" target=\"_parent\"><img src=\"https://colab.research.google.com/assets/colab-badge.svg\" alt=\"Open In Colab\"/></a>"
      ]
    },
    {
      "cell_type": "markdown",
      "source": [
        "### DAY 3"
      ],
      "metadata": {
        "id": "Sln5xjDwopPb"
      }
    },
    {
      "cell_type": "code",
      "execution_count": 1,
      "metadata": {
        "id": "pRqzY5dkobR6"
      },
      "outputs": [],
      "source": [
        "import torch as t\n",
        "import pandas as pd\n",
        "import numpy as np\n",
        "import matplotlib.pyplot as plt"
      ]
    },
    {
      "cell_type": "markdown",
      "source": [
        "###Getting information from tensors (tensor attributes)"
      ],
      "metadata": {
        "id": "TN-JwpxAoxOm"
      }
    },
    {
      "cell_type": "markdown",
      "source": [
        "Datatype => not right => tensor.datatype\n",
        "\n",
        "Shape => not right => tensor.shape\n",
        "\n",
        "Device => not right => tensor.device"
      ],
      "metadata": {
        "id": "pzaC5gyCpgOz"
      }
    },
    {
      "cell_type": "code",
      "source": [
        "tens=t.rand(3,4)\n",
        "tens"
      ],
      "metadata": {
        "colab": {
          "base_uri": "https://localhost:8080/"
        },
        "id": "pXBpCoMNpaFn",
        "outputId": "c01064f0-854e-4caf-c0c6-27fb698aa0d2"
      },
      "execution_count": 2,
      "outputs": [
        {
          "output_type": "execute_result",
          "data": {
            "text/plain": [
              "tensor([[0.3350, 0.8070, 0.2417, 0.1242],\n",
              "        [0.0341, 0.0339, 0.9702, 0.7917],\n",
              "        [0.8012, 0.9054, 0.0519, 0.9080]])"
            ]
          },
          "metadata": {},
          "execution_count": 2
        }
      ]
    },
    {
      "cell_type": "code",
      "source": [
        "print(tens)\n",
        "print(\"datatype : \",tens.dtype)\n",
        "print(\"shape : \",tens.shape)\n",
        "print(\"device : \",tens.device)"
      ],
      "metadata": {
        "colab": {
          "base_uri": "https://localhost:8080/"
        },
        "id": "BGR7YMeDqE40",
        "outputId": "72c23460-5e79-4789-b4e5-ae189de5c73a"
      },
      "execution_count": 3,
      "outputs": [
        {
          "output_type": "stream",
          "name": "stdout",
          "text": [
            "tensor([[0.3350, 0.8070, 0.2417, 0.1242],\n",
            "        [0.0341, 0.0339, 0.9702, 0.7917],\n",
            "        [0.8012, 0.9054, 0.0519, 0.9080]])\n",
            "datatype :  torch.float32\n",
            "shape :  torch.Size([3, 4])\n",
            "device :  cpu\n"
          ]
        }
      ]
    },
    {
      "cell_type": "markdown",
      "source": [
        "###Manipulating Tensors (tensor operations)"
      ],
      "metadata": {
        "id": "JUt3lP0jqrZ6"
      }
    },
    {
      "cell_type": "markdown",
      "source": [
        "Operations include:\n",
        "\n",
        "* Addition\n",
        "* Subtraction\n",
        "* Multiplication\n",
        "* Division\n",
        "* Matrix multiplication"
      ],
      "metadata": {
        "id": "NK4WicnkqxUD"
      }
    },
    {
      "cell_type": "code",
      "source": [
        "# tensor creation and addition\n",
        "tensor=t.tensor([1,2,3])\n",
        "tensor+10"
      ],
      "metadata": {
        "colab": {
          "base_uri": "https://localhost:8080/"
        },
        "id": "tteS-goTqdgq",
        "outputId": "fd833cca-42a8-47bf-f4df-134b8d0127ab"
      },
      "execution_count": 7,
      "outputs": [
        {
          "output_type": "execute_result",
          "data": {
            "text/plain": [
              "tensor([11, 12, 13])"
            ]
          },
          "metadata": {},
          "execution_count": 7
        }
      ]
    },
    {
      "cell_type": "code",
      "source": [
        "# multiplication\n",
        "tensor*10"
      ],
      "metadata": {
        "colab": {
          "base_uri": "https://localhost:8080/"
        },
        "id": "_3ZZfBrPrLLY",
        "outputId": "3988a815-8be9-4438-dac7-3392e4b466c3"
      },
      "execution_count": 8,
      "outputs": [
        {
          "output_type": "execute_result",
          "data": {
            "text/plain": [
              "tensor([10, 20, 30])"
            ]
          },
          "metadata": {},
          "execution_count": 8
        }
      ]
    },
    {
      "cell_type": "code",
      "source": [
        "# subtraction\n",
        "tensor-10"
      ],
      "metadata": {
        "colab": {
          "base_uri": "https://localhost:8080/"
        },
        "id": "Eswp172IrX7H",
        "outputId": "4ea8d8fe-2201-461d-a0f3-3d7151c0c88e"
      },
      "execution_count": 9,
      "outputs": [
        {
          "output_type": "execute_result",
          "data": {
            "text/plain": [
              "tensor([-9, -8, -7])"
            ]
          },
          "metadata": {},
          "execution_count": 9
        }
      ]
    },
    {
      "cell_type": "code",
      "source": [
        "# divisiom\n",
        "tensor/10"
      ],
      "metadata": {
        "colab": {
          "base_uri": "https://localhost:8080/"
        },
        "id": "zyuMViKUsDxL",
        "outputId": "ae9e8ad5-89e2-432f-b310-2afc312be1d8"
      },
      "execution_count": 13,
      "outputs": [
        {
          "output_type": "execute_result",
          "data": {
            "text/plain": [
              "tensor([0.1000, 0.2000, 0.3000])"
            ]
          },
          "metadata": {},
          "execution_count": 13
        }
      ]
    },
    {
      "cell_type": "code",
      "source": [
        "# using built-in function\n",
        "print(t.mul(tensor,10))\n",
        "print(t.add(tensor,10))"
      ],
      "metadata": {
        "colab": {
          "base_uri": "https://localhost:8080/"
        },
        "id": "hA5L1bMErlRt",
        "outputId": "9fc7b4a9-3626-4ba8-8c95-ced4099de7ec"
      },
      "execution_count": 12,
      "outputs": [
        {
          "output_type": "stream",
          "name": "stdout",
          "text": [
            "tensor([10, 20, 30])\n",
            "tensor([11, 12, 13])\n"
          ]
        }
      ]
    },
    {
      "cell_type": "markdown",
      "source": [
        "### Matrix multiplication"
      ],
      "metadata": {
        "id": "zTrmUNDTsIsl"
      }
    },
    {
      "cell_type": "markdown",
      "source": [
        "Two ways to perform:\n",
        "* Element-wise multiplication\n",
        "* Matrix multiplication (dot product)"
      ],
      "metadata": {
        "id": "TbhtpE1vsN6x"
      }
    },
    {
      "cell_type": "markdown",
      "source": [
        "Rules to matrix multiplication\n",
        "* To multiply inner dimensions must match\n",
        "* Resulting matrix has shape of outer dimension"
      ],
      "metadata": {
        "id": "jedBIfUHuqD2"
      }
    },
    {
      "cell_type": "code",
      "source": [
        "# we will get an error when we multilpy 2 matrices of different shape\n",
        "t.matmul(t.rand(2,3),t.rand(2,3))"
      ],
      "metadata": {
        "colab": {
          "base_uri": "https://localhost:8080/",
          "height": 192
        },
        "id": "-SZ34fDQuvFG",
        "outputId": "1a4ea9e6-db45-4657-f632-4049d5de3242"
      },
      "execution_count": 20,
      "outputs": [
        {
          "output_type": "error",
          "ename": "RuntimeError",
          "evalue": "mat1 and mat2 shapes cannot be multiplied (2x3 and 2x3)",
          "traceback": [
            "\u001b[0;31m---------------------------------------------------------------------------\u001b[0m",
            "\u001b[0;31mRuntimeError\u001b[0m                              Traceback (most recent call last)",
            "\u001b[0;32m<ipython-input-20-2b48235aba40>\u001b[0m in \u001b[0;36m<cell line: 2>\u001b[0;34m()\u001b[0m\n\u001b[1;32m      1\u001b[0m \u001b[0;31m# we will get an error when we multilpy 2 matrices of different shape\u001b[0m\u001b[0;34m\u001b[0m\u001b[0;34m\u001b[0m\u001b[0m\n\u001b[0;32m----> 2\u001b[0;31m \u001b[0mt\u001b[0m\u001b[0;34m.\u001b[0m\u001b[0mmatmul\u001b[0m\u001b[0;34m(\u001b[0m\u001b[0mt\u001b[0m\u001b[0;34m.\u001b[0m\u001b[0mrand\u001b[0m\u001b[0;34m(\u001b[0m\u001b[0;36m2\u001b[0m\u001b[0;34m,\u001b[0m\u001b[0;36m3\u001b[0m\u001b[0;34m)\u001b[0m\u001b[0;34m,\u001b[0m\u001b[0mt\u001b[0m\u001b[0;34m.\u001b[0m\u001b[0mrand\u001b[0m\u001b[0;34m(\u001b[0m\u001b[0;36m2\u001b[0m\u001b[0;34m,\u001b[0m\u001b[0;36m3\u001b[0m\u001b[0;34m)\u001b[0m\u001b[0;34m)\u001b[0m\u001b[0;34m\u001b[0m\u001b[0;34m\u001b[0m\u001b[0m\n\u001b[0m",
            "\u001b[0;31mRuntimeError\u001b[0m: mat1 and mat2 shapes cannot be multiplied (2x3 and 2x3)"
          ]
        }
      ]
    },
    {
      "cell_type": "code",
      "source": [
        "t.matmul(t.rand(3,2),t.rand(2,3))"
      ],
      "metadata": {
        "colab": {
          "base_uri": "https://localhost:8080/"
        },
        "id": "zX2II7jMvgq0",
        "outputId": "48a73787-7e5c-4581-c1a7-ca5054de60f7"
      },
      "execution_count": 22,
      "outputs": [
        {
          "output_type": "execute_result",
          "data": {
            "text/plain": [
              "tensor([[0.2922, 0.7427, 0.5002],\n",
              "        [0.1205, 0.1564, 0.1665],\n",
              "        [0.2649, 0.4892, 0.4046]])"
            ]
          },
          "metadata": {},
          "execution_count": 22
        }
      ]
    },
    {
      "cell_type": "code",
      "source": [
        "# Element wise\n",
        "print(tensor,\"*\",tensor)\n",
        "print(tensor*tensor)"
      ],
      "metadata": {
        "colab": {
          "base_uri": "https://localhost:8080/"
        },
        "id": "jqs8_fMDru-a",
        "outputId": "7b8485fe-c436-4876-c600-c92eecdd0327"
      },
      "execution_count": 14,
      "outputs": [
        {
          "output_type": "stream",
          "name": "stdout",
          "text": [
            "tensor([1, 2, 3]) * tensor([1, 2, 3])\n",
            "tensor([1, 4, 9])\n"
          ]
        }
      ]
    },
    {
      "cell_type": "code",
      "source": [
        "# Matrix multiplication\n",
        "t.matmul(tensor,tensor)"
      ],
      "metadata": {
        "colab": {
          "base_uri": "https://localhost:8080/"
        },
        "id": "iYm-_A6ss_5J",
        "outputId": "25d8cb2c-cd45-4eb2-c030-d8b5787cdbb1"
      },
      "execution_count": 15,
      "outputs": [
        {
          "output_type": "execute_result",
          "data": {
            "text/plain": [
              "tensor(14)"
            ]
          },
          "metadata": {},
          "execution_count": 15
        }
      ]
    },
    {
      "cell_type": "code",
      "source": [
        "tensor@tensor"
      ],
      "metadata": {
        "colab": {
          "base_uri": "https://localhost:8080/"
        },
        "id": "Krfh9-TEuftr",
        "outputId": "4fe68539-98bb-4a76-f24f-3847d01c5254"
      },
      "execution_count": 18,
      "outputs": [
        {
          "output_type": "execute_result",
          "data": {
            "text/plain": [
              "tensor(14)"
            ]
          },
          "metadata": {},
          "execution_count": 18
        }
      ]
    },
    {
      "cell_type": "code",
      "source": [
        "# by hand\n",
        "%%time\n",
        "value=0\n",
        "for i in range(len(tensor)):\n",
        "  value+=tensor[i]*tensor[i]\n",
        "print(value)"
      ],
      "metadata": {
        "colab": {
          "base_uri": "https://localhost:8080/"
        },
        "id": "J1xgorQVtItb",
        "outputId": "62a6d8dd-6706-4344-ef7e-773b3cd470f1"
      },
      "execution_count": 16,
      "outputs": [
        {
          "output_type": "stream",
          "name": "stdout",
          "text": [
            "tensor(14)\n",
            "CPU times: user 2.38 ms, sys: 0 ns, total: 2.38 ms\n",
            "Wall time: 2.45 ms\n"
          ]
        }
      ]
    },
    {
      "cell_type": "code",
      "source": [
        "%%time\n",
        "t.matmul(tensor,tensor)"
      ],
      "metadata": {
        "colab": {
          "base_uri": "https://localhost:8080/"
        },
        "id": "R5BFc2TGtyZv",
        "outputId": "e94a21ba-1551-4582-edb1-80042c70e007"
      },
      "execution_count": 17,
      "outputs": [
        {
          "output_type": "stream",
          "name": "stdout",
          "text": [
            "CPU times: user 125 µs, sys: 0 ns, total: 125 µs\n",
            "Wall time: 131 µs\n"
          ]
        },
        {
          "output_type": "execute_result",
          "data": {
            "text/plain": [
              "tensor(14)"
            ]
          },
          "metadata": {},
          "execution_count": 17
        }
      ]
    },
    {
      "cell_type": "markdown",
      "source": [
        "### One of the most common errors in deep learning is shape errors"
      ],
      "metadata": {
        "id": "gBFCipHnuNyE"
      }
    },
    {
      "cell_type": "code",
      "source": [
        "#Shapes for matrix multiplication\n",
        "ten_A = t.tensor([[1,2],[3,4],[5,6]])\n",
        "ten_B=t.tensor([[7,10],[8,11],[9,12]])\n",
        "#how to correct the dimensions when inner dimensions are not same\n",
        "# matmul=mm\n",
        "t.mm(ten_A,ten_B)"
      ],
      "metadata": {
        "colab": {
          "base_uri": "https://localhost:8080/",
          "height": 210
        },
        "id": "yCTyYUEpt5L3",
        "outputId": "8ea89bf5-924f-4d44-e3d7-d3ea8118dc6d"
      },
      "execution_count": 24,
      "outputs": [
        {
          "output_type": "error",
          "ename": "RuntimeError",
          "evalue": "mat1 and mat2 shapes cannot be multiplied (3x2 and 3x2)",
          "traceback": [
            "\u001b[0;31m---------------------------------------------------------------------------\u001b[0m",
            "\u001b[0;31mRuntimeError\u001b[0m                              Traceback (most recent call last)",
            "\u001b[0;32m<ipython-input-24-96f78d34bfdb>\u001b[0m in \u001b[0;36m<cell line: 5>\u001b[0;34m()\u001b[0m\n\u001b[1;32m      3\u001b[0m \u001b[0mten_B\u001b[0m\u001b[0;34m=\u001b[0m\u001b[0mt\u001b[0m\u001b[0;34m.\u001b[0m\u001b[0mtensor\u001b[0m\u001b[0;34m(\u001b[0m\u001b[0;34m[\u001b[0m\u001b[0;34m[\u001b[0m\u001b[0;36m7\u001b[0m\u001b[0;34m,\u001b[0m\u001b[0;36m10\u001b[0m\u001b[0;34m]\u001b[0m\u001b[0;34m,\u001b[0m\u001b[0;34m[\u001b[0m\u001b[0;36m8\u001b[0m\u001b[0;34m,\u001b[0m\u001b[0;36m11\u001b[0m\u001b[0;34m]\u001b[0m\u001b[0;34m,\u001b[0m\u001b[0;34m[\u001b[0m\u001b[0;36m9\u001b[0m\u001b[0;34m,\u001b[0m\u001b[0;36m12\u001b[0m\u001b[0;34m]\u001b[0m\u001b[0;34m]\u001b[0m\u001b[0;34m)\u001b[0m\u001b[0;34m\u001b[0m\u001b[0;34m\u001b[0m\u001b[0m\n\u001b[1;32m      4\u001b[0m \u001b[0;31m# matmul=mm\u001b[0m\u001b[0;34m\u001b[0m\u001b[0;34m\u001b[0m\u001b[0m\n\u001b[0;32m----> 5\u001b[0;31m \u001b[0mt\u001b[0m\u001b[0;34m.\u001b[0m\u001b[0mmm\u001b[0m\u001b[0;34m(\u001b[0m\u001b[0mten_A\u001b[0m\u001b[0;34m,\u001b[0m\u001b[0mten_B\u001b[0m\u001b[0;34m)\u001b[0m\u001b[0;34m\u001b[0m\u001b[0;34m\u001b[0m\u001b[0m\n\u001b[0m",
            "\u001b[0;31mRuntimeError\u001b[0m: mat1 and mat2 shapes cannot be multiplied (3x2 and 3x2)"
          ]
        }
      ]
    },
    {
      "cell_type": "markdown",
      "source": [
        "To fix we use transpose"
      ],
      "metadata": {
        "id": "vq3Ho_GGwfRy"
      }
    },
    {
      "cell_type": "code",
      "source": [
        "print(ten_B.T,ten_B.T.shape)\n",
        "print(ten_B,ten_B.shape)"
      ],
      "metadata": {
        "colab": {
          "base_uri": "https://localhost:8080/"
        },
        "id": "sU3rwJrcwSBp",
        "outputId": "4229ff93-6a0b-49c4-bb52-f2323cbcd918"
      },
      "execution_count": 26,
      "outputs": [
        {
          "output_type": "stream",
          "name": "stdout",
          "text": [
            "tensor([[ 7,  8,  9],\n",
            "        [10, 11, 12]]) torch.Size([2, 3])\n",
            "tensor([[ 7, 10],\n",
            "        [ 8, 11],\n",
            "        [ 9, 12]]) torch.Size([3, 2])\n"
          ]
        }
      ]
    },
    {
      "cell_type": "code",
      "source": [
        "t.mm(ten_A,ten_B.T)"
      ],
      "metadata": {
        "colab": {
          "base_uri": "https://localhost:8080/"
        },
        "id": "-z6bbEq-woRK",
        "outputId": "7cc257af-ab69-4a38-f889-0f447fc97a6d"
      },
      "execution_count": 27,
      "outputs": [
        {
          "output_type": "execute_result",
          "data": {
            "text/plain": [
              "tensor([[ 27,  30,  33],\n",
              "        [ 61,  68,  75],\n",
              "        [ 95, 106, 117]])"
            ]
          },
          "metadata": {},
          "execution_count": 27
        }
      ]
    },
    {
      "cell_type": "code",
      "source": [
        "t.mm(ten_A,ten_B.T).shape"
      ],
      "metadata": {
        "colab": {
          "base_uri": "https://localhost:8080/"
        },
        "id": "SmTex8Uqw6bF",
        "outputId": "1c37f9de-9f9b-4d12-b5c2-5d5cb63ec035"
      },
      "execution_count": 28,
      "outputs": [
        {
          "output_type": "execute_result",
          "data": {
            "text/plain": [
              "torch.Size([3, 3])"
            ]
          },
          "metadata": {},
          "execution_count": 28
        }
      ]
    },
    {
      "cell_type": "markdown",
      "source": [
        "### Tensor Aggregation i.e min,max,mean,sum etc"
      ],
      "metadata": {
        "id": "WMBZ_VSmxOwT"
      }
    },
    {
      "cell_type": "code",
      "source": [
        "x=t.arange(0,50,5)\n",
        "x"
      ],
      "metadata": {
        "colab": {
          "base_uri": "https://localhost:8080/"
        },
        "id": "enfoIFMow_jC",
        "outputId": "51e6f75d-284d-4ed3-ceca-d203f7b3fa67"
      },
      "execution_count": 30,
      "outputs": [
        {
          "output_type": "execute_result",
          "data": {
            "text/plain": [
              "tensor([ 0,  5, 10, 15, 20, 25, 30, 35, 40, 45])"
            ]
          },
          "metadata": {},
          "execution_count": 30
        }
      ]
    },
    {
      "cell_type": "code",
      "source": [
        "# min\n",
        "t.min(x),x.min()"
      ],
      "metadata": {
        "colab": {
          "base_uri": "https://localhost:8080/"
        },
        "id": "vjq4u1Snxajc",
        "outputId": "0bca3cbf-db3e-473c-f535-f6ae33431919"
      },
      "execution_count": 34,
      "outputs": [
        {
          "output_type": "execute_result",
          "data": {
            "text/plain": [
              "(tensor(0), tensor(0))"
            ]
          },
          "metadata": {},
          "execution_count": 34
        }
      ]
    },
    {
      "cell_type": "code",
      "source": [
        "#max\n",
        "t.max(x),x.max()"
      ],
      "metadata": {
        "colab": {
          "base_uri": "https://localhost:8080/"
        },
        "id": "yQ4BA7MAxh2G",
        "outputId": "c74423f0-d9b7-4202-ca07-d5366ba74cfc"
      },
      "execution_count": 35,
      "outputs": [
        {
          "output_type": "execute_result",
          "data": {
            "text/plain": [
              "(tensor(45), tensor(45))"
            ]
          },
          "metadata": {},
          "execution_count": 35
        }
      ]
    },
    {
      "cell_type": "code",
      "source": [
        "#sum\n",
        "t.sum(x),x.sum()"
      ],
      "metadata": {
        "colab": {
          "base_uri": "https://localhost:8080/"
        },
        "id": "MIoXvg4axlR7",
        "outputId": "b8fb2376-f07e-4230-ad73-a46fb17c620c"
      },
      "execution_count": 36,
      "outputs": [
        {
          "output_type": "execute_result",
          "data": {
            "text/plain": [
              "(tensor(225), tensor(225))"
            ]
          },
          "metadata": {},
          "execution_count": 36
        }
      ]
    },
    {
      "cell_type": "code",
      "source": [
        "# For mean datatype must be float or long else we will get an error for wrong datatype\n",
        "t.mean(x.type(t.float32)),x.type(t.float32).mean()"
      ],
      "metadata": {
        "colab": {
          "base_uri": "https://localhost:8080/"
        },
        "id": "LETlYX7Oxtzd",
        "outputId": "44c041e5-e593-4b5f-c6fd-2d3efb094b3b"
      },
      "execution_count": 39,
      "outputs": [
        {
          "output_type": "execute_result",
          "data": {
            "text/plain": [
              "(tensor(22.5000), tensor(22.5000))"
            ]
          },
          "metadata": {},
          "execution_count": 39
        }
      ]
    }
  ]
}