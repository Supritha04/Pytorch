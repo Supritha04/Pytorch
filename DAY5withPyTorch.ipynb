{
  "nbformat": 4,
  "nbformat_minor": 0,
  "metadata": {
    "colab": {
      "provenance": [],
      "authorship_tag": "ABX9TyPqZkGWJfCF4g6/gYGvyC+r",
      "include_colab_link": true
    },
    "kernelspec": {
      "name": "python3",
      "display_name": "Python 3"
    },
    "language_info": {
      "name": "python"
    }
  },
  "cells": [
    {
      "cell_type": "markdown",
      "metadata": {
        "id": "view-in-github",
        "colab_type": "text"
      },
      "source": [
        "<a href=\"https://colab.research.google.com/github/Supritha04/Pytorch/blob/main/DAY5withPyTorch.ipynb\" target=\"_parent\"><img src=\"https://colab.research.google.com/assets/colab-badge.svg\" alt=\"Open In Colab\"/></a>"
      ]
    },
    {
      "cell_type": "markdown",
      "source": [
        "### **DAY 5**\n",
        "**PyTorch Workflow**"
      ],
      "metadata": {
        "id": "9TyLA71barie"
      }
    },
    {
      "cell_type": "code",
      "execution_count": 1,
      "metadata": {
        "colab": {
          "base_uri": "https://localhost:8080/"
        },
        "id": "Mep5TcujKZLm",
        "outputId": "e5f014f0-edb7-4e0e-9899-bd7aa8ad26c4"
      },
      "outputs": [
        {
          "output_type": "execute_result",
          "data": {
            "text/plain": [
              "{1: 'data (prepare and load)',\n",
              " 2: 'build model',\n",
              " 3: 'fitting the model to data(training)',\n",
              " 4: 'making predictions and evaluating a model(inference)',\n",
              " 5: 'saving and loading a model',\n",
              " 6: 'putting it all together'}"
            ]
          },
          "metadata": {},
          "execution_count": 1
        }
      ],
      "source": [
        "things_to_learn={1: \"data (prepare and load)\",\n",
        "                 2: \"build model\",\n",
        "                 3: \"fitting the model to data(training)\",\n",
        "                 4: \"making predictions and evaluating a model(inference)\",\n",
        "                 5:\"saving and loading a model\",\n",
        "                 6:\"putting it all together\"}\n",
        "things_to_learn"
      ]
    },
    {
      "cell_type": "code",
      "source": [
        "import torch\n",
        "from torch import nn # nn contains all of PyTorch's building blocks for nueral network\n",
        "import matplotlib.pyplot as plt\n",
        "torch.__version__"
      ],
      "metadata": {
        "colab": {
          "base_uri": "https://localhost:8080/",
          "height": 36
        },
        "id": "_pxoCGCRtpMZ",
        "outputId": "23b2574c-3eca-4b93-ab8e-d5978fff5f92"
      },
      "execution_count": 2,
      "outputs": [
        {
          "output_type": "execute_result",
          "data": {
            "text/plain": [
              "'2.1.0+cu121'"
            ],
            "application/vnd.google.colaboratory.intrinsic+json": {
              "type": "string"
            }
          },
          "metadata": {},
          "execution_count": 2
        }
      ]
    },
    {
      "cell_type": "markdown",
      "source": [
        "### 1. Data (preparing and Loading)"
      ],
      "metadata": {
        "id": "yKN0CAu6vG8u"
      }
    },
    {
      "cell_type": "markdown",
      "source": [
        "Data can be anything\n",
        "* Excel spreadsheet\n",
        "* Images\n",
        "* Videos\n",
        "* Audio\n",
        "* DNA\n",
        "* Text"
      ],
      "metadata": {
        "id": "JJY_g4QvvRcy"
      }
    },
    {
      "cell_type": "markdown",
      "source": [
        "Machine Learning is a game of two parts:\n",
        "1. Get data into numerical representation.\n",
        "2. Build a model to learn patterns in that numerical representation."
      ],
      "metadata": {
        "id": "BMRm4d_7wC4p"
      }
    },
    {
      "cell_type": "code",
      "source": [
        "weight=0.7\n",
        "bias=0.3\n",
        "# create data\n",
        "start=0\n",
        "end=1\n",
        "step=0.02\n",
        "x=torch.arange(start,end,step).unsqueeze(dim=1)\n",
        "y=weight*x+10\n",
        "x[:10],y[:10]"
      ],
      "metadata": {
        "colab": {
          "base_uri": "https://localhost:8080/"
        },
        "id": "xZZgkMUvu-oZ",
        "outputId": "3c76aec7-bc0a-4e3d-cc9a-e3020f41b16c"
      },
      "execution_count": 3,
      "outputs": [
        {
          "output_type": "execute_result",
          "data": {
            "text/plain": [
              "(tensor([[0.0000],\n",
              "         [0.0200],\n",
              "         [0.0400],\n",
              "         [0.0600],\n",
              "         [0.0800],\n",
              "         [0.1000],\n",
              "         [0.1200],\n",
              "         [0.1400],\n",
              "         [0.1600],\n",
              "         [0.1800]]),\n",
              " tensor([[10.0000],\n",
              "         [10.0140],\n",
              "         [10.0280],\n",
              "         [10.0420],\n",
              "         [10.0560],\n",
              "         [10.0700],\n",
              "         [10.0840],\n",
              "         [10.0980],\n",
              "         [10.1120],\n",
              "         [10.1260]]))"
            ]
          },
          "metadata": {},
          "execution_count": 3
        }
      ]
    },
    {
      "cell_type": "code",
      "source": [
        "len(x),len(y)"
      ],
      "metadata": {
        "colab": {
          "base_uri": "https://localhost:8080/"
        },
        "id": "TFwGLFgOxF6H",
        "outputId": "801bec66-ebd3-49ab-bd6c-d36c5a3ad039"
      },
      "execution_count": 4,
      "outputs": [
        {
          "output_type": "execute_result",
          "data": {
            "text/plain": [
              "(50, 50)"
            ]
          },
          "metadata": {},
          "execution_count": 4
        }
      ]
    },
    {
      "cell_type": "markdown",
      "source": [
        "### Splitting data into training and test sets"
      ],
      "metadata": {
        "id": "tsoD_WNGxbrP"
      }
    },
    {
      "cell_type": "code",
      "source": [
        "# Create a train/test split\n",
        "train_split=int(0.8*len(x))\n",
        "x_train,y_train=x[:train_split],y[:train_split]\n",
        "x_test,y_test=x[train_split:],y[train_split:]\n",
        "len(x_train),len(y_train),len(x_test),len(y_test)"
      ],
      "metadata": {
        "colab": {
          "base_uri": "https://localhost:8080/"
        },
        "id": "wTC7VfG5xMfN",
        "outputId": "4cafd7cd-cf42-4922-af7f-b3998e87b0d6"
      },
      "execution_count": 5,
      "outputs": [
        {
          "output_type": "execute_result",
          "data": {
            "text/plain": [
              "(40, 40, 10, 10)"
            ]
          },
          "metadata": {},
          "execution_count": 5
        }
      ]
    },
    {
      "cell_type": "code",
      "source": [
        "x_train,y_train"
      ],
      "metadata": {
        "colab": {
          "base_uri": "https://localhost:8080/"
        },
        "id": "__EHH8kYyXHT",
        "outputId": "53508da6-1345-4eae-b5f3-56e8cfc22c23"
      },
      "execution_count": 6,
      "outputs": [
        {
          "output_type": "execute_result",
          "data": {
            "text/plain": [
              "(tensor([[0.0000],\n",
              "         [0.0200],\n",
              "         [0.0400],\n",
              "         [0.0600],\n",
              "         [0.0800],\n",
              "         [0.1000],\n",
              "         [0.1200],\n",
              "         [0.1400],\n",
              "         [0.1600],\n",
              "         [0.1800],\n",
              "         [0.2000],\n",
              "         [0.2200],\n",
              "         [0.2400],\n",
              "         [0.2600],\n",
              "         [0.2800],\n",
              "         [0.3000],\n",
              "         [0.3200],\n",
              "         [0.3400],\n",
              "         [0.3600],\n",
              "         [0.3800],\n",
              "         [0.4000],\n",
              "         [0.4200],\n",
              "         [0.4400],\n",
              "         [0.4600],\n",
              "         [0.4800],\n",
              "         [0.5000],\n",
              "         [0.5200],\n",
              "         [0.5400],\n",
              "         [0.5600],\n",
              "         [0.5800],\n",
              "         [0.6000],\n",
              "         [0.6200],\n",
              "         [0.6400],\n",
              "         [0.6600],\n",
              "         [0.6800],\n",
              "         [0.7000],\n",
              "         [0.7200],\n",
              "         [0.7400],\n",
              "         [0.7600],\n",
              "         [0.7800]]),\n",
              " tensor([[10.0000],\n",
              "         [10.0140],\n",
              "         [10.0280],\n",
              "         [10.0420],\n",
              "         [10.0560],\n",
              "         [10.0700],\n",
              "         [10.0840],\n",
              "         [10.0980],\n",
              "         [10.1120],\n",
              "         [10.1260],\n",
              "         [10.1400],\n",
              "         [10.1540],\n",
              "         [10.1680],\n",
              "         [10.1820],\n",
              "         [10.1960],\n",
              "         [10.2100],\n",
              "         [10.2240],\n",
              "         [10.2380],\n",
              "         [10.2520],\n",
              "         [10.2660],\n",
              "         [10.2800],\n",
              "         [10.2940],\n",
              "         [10.3080],\n",
              "         [10.3220],\n",
              "         [10.3360],\n",
              "         [10.3500],\n",
              "         [10.3640],\n",
              "         [10.3780],\n",
              "         [10.3920],\n",
              "         [10.4060],\n",
              "         [10.4200],\n",
              "         [10.4340],\n",
              "         [10.4480],\n",
              "         [10.4620],\n",
              "         [10.4760],\n",
              "         [10.4900],\n",
              "         [10.5040],\n",
              "         [10.5180],\n",
              "         [10.5320],\n",
              "         [10.5460]]))"
            ]
          },
          "metadata": {},
          "execution_count": 6
        }
      ]
    },
    {
      "cell_type": "markdown",
      "source": [
        "Visualising data"
      ],
      "metadata": {
        "id": "oH5Ff8exyz_g"
      }
    },
    {
      "cell_type": "code",
      "source": [
        "def plot_predictions(train_data=x_train,\n",
        "                     train_labels=y_train,\n",
        "                     test_data=x_test,\n",
        "                     test_labels=y_test,\n",
        "                     predictions=None):\n",
        "  plt.figure(figsize=(10,7))\n",
        "  plt.scatter(train_data,train_labels,c=\"b\",s=4,label=\"Training data\")\n",
        "  plt.scatter(test_data,test_labels,c=\"g\",s=4,label=\"Testing data\")\n",
        "  if predictions is not None:\n",
        "    plt.scatter(test_data,predictions,c=\"r\",s=4,label=\"Predictions\")\n",
        "  plt.legend(prop={\"size\":14})"
      ],
      "metadata": {
        "id": "QN0JVrHoyu6W"
      },
      "execution_count": 7,
      "outputs": []
    },
    {
      "cell_type": "code",
      "source": [
        "plot_predictions()"
      ],
      "metadata": {
        "colab": {
          "base_uri": "https://localhost:8080/",
          "height": 599
        },
        "id": "5GvZykyHzSXx",
        "outputId": "59027f1e-54ea-41fe-b17f-0630cf59dba3"
      },
      "execution_count": 8,
      "outputs": [
        {
          "output_type": "display_data",
          "data": {
            "text/plain": [
              "<Figure size 1000x700 with 1 Axes>"
            ],
            "image/png": "[encoded data removed]"
          },
          "metadata": {}
        }
      ]
    },
    {
      "cell_type": "markdown",
      "source": [
        "### 2. Build Model"
      ],
      "metadata": {
        "id": "BJN6K0cbeuDV"
      }
    },
    {
      "cell_type": "code",
      "source": [
        "# Linear regression model class\n",
        "class LinearRegressionMode(nn.Module):\n",
        "  def __init__(self):\n",
        "    super().__init__()\n",
        "    self.weights=nn.Parameter(torch.randn(1,requires_grad=True,dtype=torch.float))\n",
        "    self.bias=nn.Parameter(torch.randn(1,requires_grad=True,dtype=torch.float))\n",
        "\n",
        "    def forward(self,x:torch.Tensor)->torch.Tensor:\n",
        "      return self.weights*x+self.bias"
      ],
      "metadata": {
        "id": "clXa4raT0YsZ"
      },
      "execution_count": 9,
      "outputs": []
    },
    {
      "cell_type": "markdown",
      "source": [
        "PyTorch building model essentials\n",
        "* torch.nn\n",
        "* torch.nn.Parameter\n",
        "* torch.nn.Module\n",
        "* torch.optim\n",
        "* def forward()"
      ],
      "metadata": {
        "id": "8-r4UwdYnXDY"
      }
    }
  ]
}