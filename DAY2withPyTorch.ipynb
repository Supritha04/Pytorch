{
  "nbformat": 4,
  "nbformat_minor": 0,
  "metadata": {
    "colab": {
      "provenance": [],
      "authorship_tag": "ABX9TyOFnDHXYVn7VR1EQtqMVHRf",
      "include_colab_link": true
    },
    "kernelspec": {
      "name": "python3",
      "display_name": "Python 3"
    },
    "language_info": {
      "name": "python"
    }
  },
  "cells": [
    {
      "cell_type": "markdown",
      "metadata": {
        "id": "view-in-github",
        "colab_type": "text"
      },
      "source": [
        "<a href=\"https://colab.research.google.com/github/Supritha04/Pytorch/blob/main/DAY2withPyTorch.ipynb\" target=\"_parent\"><img src=\"https://colab.research.google.com/assets/colab-badge.svg\" alt=\"Open In Colab\"/></a>"
      ]
    },
    {
      "cell_type": "markdown",
      "source": [
        "###**DAY 2**\n"
      ],
      "metadata": {
        "id": "3fSL8vH_Oij4"
      }
    },
    {
      "cell_type": "markdown",
      "source": [
        "###Random Tensors"
      ],
      "metadata": {
        "id": "vKdCiKBqSbYe"
      }
    },
    {
      "cell_type": "markdown",
      "source": [
        "Many nueral networks start with random numbers => look at the data => update random numbers => look at data => update random numbers"
      ],
      "metadata": {
        "id": "xKpu6ThaPTpx"
      }
    },
    {
      "cell_type": "code",
      "source": [
        "import torch as t\n",
        "import pandas as pd\n",
        "import numpy as np\n",
        "import matplotlib.pyplot as plt"
      ],
      "metadata": {
        "id": "d_8_NBC3QMBT"
      },
      "execution_count": 1,
      "outputs": []
    },
    {
      "cell_type": "code",
      "source": [
        "random_t=t.rand(1,10,9)\n",
        "random_t"
      ],
      "metadata": {
        "colab": {
          "base_uri": "https://localhost:8080/"
        },
        "id": "vaDQMQY6QjBr",
        "outputId": "cfb1a595-a99a-4dcf-e2a4-cfb77d1e27cb"
      },
      "execution_count": 6,
      "outputs": [
        {
          "output_type": "execute_result",
          "data": {
            "text/plain": [
              "tensor([[[0.8868, 0.7230, 0.7606, 0.6053, 0.9847, 0.1732, 0.6289, 0.3850,\n",
              "          0.7425],\n",
              "         [0.5490, 0.1107, 0.8617, 0.1667, 0.7492, 0.7772, 0.5701, 0.7652,\n",
              "          0.1667],\n",
              "         [0.0364, 0.6699, 0.9535, 0.6355, 0.5908, 0.0549, 0.7002, 0.8379,\n",
              "          0.8038],\n",
              "         [0.7806, 0.7115, 0.4309, 0.1521, 0.1587, 0.1079, 0.3260, 0.1435,\n",
              "          0.5450],\n",
              "         [0.3310, 0.3620, 0.9415, 0.8230, 0.3706, 0.1067, 0.1352, 0.8995,\n",
              "          0.9423],\n",
              "         [0.6304, 0.7390, 0.4892, 0.6240, 0.1899, 0.2608, 0.3012, 0.7773,\n",
              "          0.8345],\n",
              "         [0.6880, 0.4832, 0.4458, 0.8263, 0.4671, 0.8419, 0.7003, 0.8654,\n",
              "          0.8361],\n",
              "         [0.7409, 0.5649, 0.9472, 0.5068, 0.3371, 0.0417, 0.1996, 0.7287,\n",
              "          0.7210],\n",
              "         [0.9981, 0.2908, 0.2929, 0.6948, 0.5706, 0.6820, 0.6916, 0.5946,\n",
              "          0.2445],\n",
              "         [0.0334, 0.2403, 0.2919, 0.1739, 0.1455, 0.7722, 0.4724, 0.6067,\n",
              "          0.8435]]])"
            ]
          },
          "metadata": {},
          "execution_count": 6
        }
      ]
    },
    {
      "cell_type": "code",
      "source": [
        "random_t=t.rand(4,4)\n",
        "random_t"
      ],
      "metadata": {
        "colab": {
          "base_uri": "https://localhost:8080/"
        },
        "id": "LaCX8HcLPzRD",
        "outputId": "6882aa87-64df-4b70-c73c-a4acb8dc4c1b"
      },
      "execution_count": 2,
      "outputs": [
        {
          "output_type": "execute_result",
          "data": {
            "text/plain": [
              "tensor([[0.5748, 0.8304, 0.9551, 0.5142],\n",
              "        [0.7988, 0.6620, 0.2216, 0.7629],\n",
              "        [0.2479, 0.2388, 0.3136, 0.8710],\n",
              "        [0.0991, 0.4432, 0.7211, 0.9137]])"
            ]
          },
          "metadata": {},
          "execution_count": 2
        }
      ]
    },
    {
      "cell_type": "code",
      "source": [
        "random_t.ndim"
      ],
      "metadata": {
        "colab": {
          "base_uri": "https://localhost:8080/"
        },
        "id": "_oht6bUxQds2",
        "outputId": "268efa44-5337-4705-b166-03bb3aa66c46"
      },
      "execution_count": 3,
      "outputs": [
        {
          "output_type": "execute_result",
          "data": {
            "text/plain": [
              "2"
            ]
          },
          "metadata": {},
          "execution_count": 3
        }
      ]
    },
    {
      "cell_type": "markdown",
      "source": [
        "Creating a random tensor with similar shape to an image tensor"
      ],
      "metadata": {
        "id": "41r9_w8lRBLI"
      }
    },
    {
      "cell_type": "code",
      "source": [
        "ran_img=t.rand(size=(224,224,3))\n",
        "print(ran_img.shape,ran_img.ndim)"
      ],
      "metadata": {
        "colab": {
          "base_uri": "https://localhost:8080/"
        },
        "id": "QzEPfdk5QpaU",
        "outputId": "a30efca7-181b-453b-84f6-af8e003c7e65"
      },
      "execution_count": 9,
      "outputs": [
        {
          "output_type": "stream",
          "name": "stdout",
          "text": [
            "torch.Size([224, 224, 3]) 3\n"
          ]
        }
      ]
    },
    {
      "cell_type": "markdown",
      "source": [
        "###Zeros and Ones"
      ],
      "metadata": {
        "id": "2wWQVun1STSj"
      }
    },
    {
      "cell_type": "markdown",
      "source": [
        "Creating tensors of all zeros"
      ],
      "metadata": {
        "id": "1nnkskLcSlu3"
      }
    },
    {
      "cell_type": "code",
      "source": [
        "z=t.zeros(size=(4,4))\n",
        "z"
      ],
      "metadata": {
        "colab": {
          "base_uri": "https://localhost:8080/"
        },
        "id": "4x-dtOPrRkj_",
        "outputId": "cd6dfb57-99ae-4d96-aa62-7e6fc0c32a49"
      },
      "execution_count": 10,
      "outputs": [
        {
          "output_type": "execute_result",
          "data": {
            "text/plain": [
              "tensor([[0., 0., 0., 0.],\n",
              "        [0., 0., 0., 0.],\n",
              "        [0., 0., 0., 0.],\n",
              "        [0., 0., 0., 0.]])"
            ]
          },
          "metadata": {},
          "execution_count": 10
        }
      ]
    },
    {
      "cell_type": "markdown",
      "source": [
        "Creating tensors of one"
      ],
      "metadata": {
        "id": "x7oI_Vx8S8FU"
      }
    },
    {
      "cell_type": "code",
      "source": [
        "o=t.ones(3,3)  #\"size=\" can be written or we can directly mention size\n",
        "o"
      ],
      "metadata": {
        "colab": {
          "base_uri": "https://localhost:8080/"
        },
        "id": "__jNhV8rSwfZ",
        "outputId": "3c14b0ff-1473-4890-b81a-1a867a1f9c5d"
      },
      "execution_count": 14,
      "outputs": [
        {
          "output_type": "execute_result",
          "data": {
            "text/plain": [
              "tensor([[1., 1., 1.],\n",
              "        [1., 1., 1.],\n",
              "        [1., 1., 1.]])"
            ]
          },
          "metadata": {},
          "execution_count": 14
        }
      ]
    },
    {
      "cell_type": "markdown",
      "source": [
        "Datatype of tensors"
      ],
      "metadata": {
        "id": "9szufXJRTZKQ"
      }
    },
    {
      "cell_type": "code",
      "source": [
        "o.dtype"
      ],
      "metadata": {
        "colab": {
          "base_uri": "https://localhost:8080/"
        },
        "id": "PEAyTBI7TOzm",
        "outputId": "0f2940b5-2c93-48ee-94a5-77a3199be49f"
      },
      "execution_count": 15,
      "outputs": [
        {
          "output_type": "execute_result",
          "data": {
            "text/plain": [
              "torch.float32"
            ]
          },
          "metadata": {},
          "execution_count": 15
        }
      ]
    },
    {
      "cell_type": "code",
      "source": [
        "random_t.dtype"
      ],
      "metadata": {
        "colab": {
          "base_uri": "https://localhost:8080/"
        },
        "id": "ndvkoNHlTT2S",
        "outputId": "25b792e1-1ae4-4430-fba6-b43614fde68c"
      },
      "execution_count": 16,
      "outputs": [
        {
          "output_type": "execute_result",
          "data": {
            "text/plain": [
              "torch.float32"
            ]
          },
          "metadata": {},
          "execution_count": 16
        }
      ]
    },
    {
      "cell_type": "markdown",
      "source": [
        "###Creating a range of tensors and tensors-like"
      ],
      "metadata": {
        "id": "HnjlMWIcTuB3"
      }
    },
    {
      "cell_type": "code",
      "source": [
        "t.range(0,5)"
      ],
      "metadata": {
        "colab": {
          "base_uri": "https://localhost:8080/"
        },
        "id": "ccju9gqFTb_w",
        "outputId": "450a5a73-db60-4596-855a-5b60a8fe3b33"
      },
      "execution_count": 18,
      "outputs": [
        {
          "output_type": "stream",
          "name": "stderr",
          "text": [
            "<ipython-input-18-367ff17e7ce4>:1: UserWarning: torch.range is deprecated and will be removed in a future release because its behavior is inconsistent with Python's range builtin. Instead, use torch.arange, which produces values in [start, end).\n",
            "  t.range(0,5)\n"
          ]
        },
        {
          "output_type": "execute_result",
          "data": {
            "text/plain": [
              "tensor([0., 1., 2., 3., 4., 5.])"
            ]
          },
          "metadata": {},
          "execution_count": 18
        }
      ]
    },
    {
      "cell_type": "code",
      "source": [
        "t.arange(0,10)"
      ],
      "metadata": {
        "colab": {
          "base_uri": "https://localhost:8080/"
        },
        "id": "OQXsNL8KT67s",
        "outputId": "d2033b3c-c0c6-474b-eab9-6a4420cb03aa"
      },
      "execution_count": 20,
      "outputs": [
        {
          "output_type": "execute_result",
          "data": {
            "text/plain": [
              "tensor([0, 1, 2, 3, 4, 5, 6, 7, 8, 9])"
            ]
          },
          "metadata": {},
          "execution_count": 20
        }
      ]
    },
    {
      "cell_type": "code",
      "source": [
        "arange_with_step=t.arange(start=2,end=1000,step=77)\n",
        "arange_with_step"
      ],
      "metadata": {
        "colab": {
          "base_uri": "https://localhost:8080/"
        },
        "id": "blyN_eVVUHCa",
        "outputId": "1f8d7130-e899-4773-ced7-3d3aa6a8c96d"
      },
      "execution_count": 22,
      "outputs": [
        {
          "output_type": "execute_result",
          "data": {
            "text/plain": [
              "tensor([  2,  79, 156, 233, 310, 387, 464, 541, 618, 695, 772, 849, 926])"
            ]
          },
          "metadata": {},
          "execution_count": 22
        }
      ]
    },
    {
      "cell_type": "markdown",
      "source": [
        "Creating tensors like"
      ],
      "metadata": {
        "id": "399B_B6GUn7f"
      }
    },
    {
      "cell_type": "code",
      "source": [
        "zeroes=t.zeros_like(arange_with_step)\n",
        "zeroes"
      ],
      "metadata": {
        "colab": {
          "base_uri": "https://localhost:8080/"
        },
        "id": "QvYMM7kfUl9D",
        "outputId": "0269f870-df14-43c8-d242-aa9aab07e9cc"
      },
      "execution_count": 23,
      "outputs": [
        {
          "output_type": "execute_result",
          "data": {
            "text/plain": [
              "tensor([0, 0, 0, 0, 0, 0, 0, 0, 0, 0, 0, 0, 0])"
            ]
          },
          "metadata": {},
          "execution_count": 23
        }
      ]
    },
    {
      "cell_type": "markdown",
      "source": [
        "###Tensor Datatypes"
      ],
      "metadata": {
        "id": "x0JqvWEHVSR_"
      }
    },
    {
      "cell_type": "code",
      "source": [
        "f32t=t.tensor([3.0,10.0,9,0],dtype=None)\n",
        "f32t"
      ],
      "metadata": {
        "colab": {
          "base_uri": "https://localhost:8080/"
        },
        "id": "PAdQVd_fVVe4",
        "outputId": "9819e912-3bc2-40f0-bfbb-326fdfd41159"
      },
      "execution_count": 24,
      "outputs": [
        {
          "output_type": "execute_result",
          "data": {
            "text/plain": [
              "tensor([ 3., 10.,  9.,  0.])"
            ]
          },
          "metadata": {},
          "execution_count": 24
        }
      ]
    },
    {
      "cell_type": "code",
      "source": [
        "f32t.dtype"
      ],
      "metadata": {
        "colab": {
          "base_uri": "https://localhost:8080/"
        },
        "id": "8pV2XggpVnEo",
        "outputId": "b9eedb6e-2f17-418c-ca0e-420268ce3c79"
      },
      "execution_count": 25,
      "outputs": [
        {
          "output_type": "execute_result",
          "data": {
            "text/plain": [
              "torch.float32"
            ]
          },
          "metadata": {},
          "execution_count": 25
        }
      ]
    },
    {
      "cell_type": "code",
      "source": [
        "#Changing default datatype\n",
        "f16t=t.tensor([3.0,10.0,9,0],dtype=t.float16)\n",
        "print(f16t)\n",
        "f16t.dtype"
      ],
      "metadata": {
        "colab": {
          "base_uri": "https://localhost:8080/"
        },
        "id": "ZHRrwgtGVqdv",
        "outputId": "6f2a135d-2510-4e19-fd42-3f1751d3047f"
      },
      "execution_count": 27,
      "outputs": [
        {
          "output_type": "stream",
          "name": "stdout",
          "text": [
            "tensor([ 3., 10.,  9.,  0.], dtype=torch.float16)\n"
          ]
        },
        {
          "output_type": "execute_result",
          "data": {
            "text/plain": [
              "torch.float16"
            ]
          },
          "metadata": {},
          "execution_count": 27
        }
      ]
    },
    {
      "cell_type": "code",
      "source": [
        "par=t.tensor([4.0,7.0,0],\n",
        "              dtype=None,\n",
        "              device=None,\n",
        "              requires_grad=False)\n",
        "par"
      ],
      "metadata": {
        "colab": {
          "base_uri": "https://localhost:8080/"
        },
        "id": "_5SSvi9dV80P",
        "outputId": "27550a52-a6ea-4c8b-cc7d-ecb0e5c3fd6d"
      },
      "execution_count": 29,
      "outputs": [
        {
          "output_type": "execute_result",
          "data": {
            "text/plain": [
              "tensor([4., 7., 0.])"
            ]
          },
          "metadata": {},
          "execution_count": 29
        }
      ]
    },
    {
      "cell_type": "markdown",
      "source": [
        "Tensors with no right datatype, no right shape and with no right device are 3 big errors what we run with PyTorch"
      ],
      "metadata": {
        "id": "3D4Jnt5rXKq8"
      }
    },
    {
      "cell_type": "code",
      "source": [
        "f16t=f32t.type(t.float16)\n",
        "f16t"
      ],
      "metadata": {
        "colab": {
          "base_uri": "https://localhost:8080/"
        },
        "id": "4SZ1a4_gWkOF",
        "outputId": "f5c50275-06b2-485f-be57-da12e244ad59"
      },
      "execution_count": 30,
      "outputs": [
        {
          "output_type": "execute_result",
          "data": {
            "text/plain": [
              "tensor([ 3., 10.,  9.,  0.], dtype=torch.float16)"
            ]
          },
          "metadata": {},
          "execution_count": 30
        }
      ]
    },
    {
      "cell_type": "code",
      "source": [
        "f=f16t*f32t\n",
        "f"
      ],
      "metadata": {
        "colab": {
          "base_uri": "https://localhost:8080/"
        },
        "id": "qPDx9nyjYPNC",
        "outputId": "b0fcbbcf-ec57-4d34-c997-52dc7784c7e5"
      },
      "execution_count": 33,
      "outputs": [
        {
          "output_type": "execute_result",
          "data": {
            "text/plain": [
              "tensor([  9., 100.,  81.,   0.])"
            ]
          },
          "metadata": {},
          "execution_count": 33
        }
      ]
    },
    {
      "cell_type": "code",
      "source": [
        "f.dtype"
      ],
      "metadata": {
        "colab": {
          "base_uri": "https://localhost:8080/"
        },
        "id": "lKc5CNebYTOI",
        "outputId": "9cc401a7-d907-47e2-9e5a-f26916f06066"
      },
      "execution_count": 34,
      "outputs": [
        {
          "output_type": "execute_result",
          "data": {
            "text/plain": [
              "torch.float32"
            ]
          },
          "metadata": {},
          "execution_count": 34
        }
      ]
    }
  ]
}