{
  "nbformat": 4,
  "nbformat_minor": 0,
  "metadata": {
    "colab": {
      "provenance": [],
      "authorship_tag": "ABX9TyOVXVAA4xetcViG/WhC4oy2",
      "include_colab_link": true
    },
    "kernelspec": {
      "name": "python3",
      "display_name": "Python 3"
    },
    "language_info": {
      "name": "python"
    }
  },
  "cells": [
    {
      "cell_type": "markdown",
      "metadata": {
        "id": "view-in-github",
        "colab_type": "text"
      },
      "source": [
        "<a href=\"https://colab.research.google.com/github/Supritha04/Pytorch/blob/main/DAY4_3withPyTorch.ipynb\" target=\"_parent\"><img src=\"https://colab.research.google.com/assets/colab-badge.svg\" alt=\"Open In Colab\"/></a>"
      ]
    },
    {
      "cell_type": "markdown",
      "source": [
        "### Day4_3 Excercise"
      ],
      "metadata": {
        "id": "BbwT7QKchKLr"
      }
    },
    {
      "cell_type": "code",
      "source": [
        "import torch as t\n",
        "import numpy as np"
      ],
      "metadata": {
        "id": "mi6XvJK7hg2P"
      },
      "execution_count": 1,
      "outputs": []
    },
    {
      "cell_type": "markdown",
      "source": [
        "### 1. Creating a random tensor of shape(7,7)"
      ],
      "metadata": {
        "id": "1cNC_OUDhRsL"
      }
    },
    {
      "cell_type": "code",
      "source": [
        "rt=t.rand(7,7)\n",
        "print(rt)"
      ],
      "metadata": {
        "colab": {
          "base_uri": "https://localhost:8080/"
        },
        "id": "zrjPNzOMhYNd",
        "outputId": "3aadd592-319f-4b5f-8f61-787c0949c7fe"
      },
      "execution_count": 4,
      "outputs": [
        {
          "output_type": "stream",
          "name": "stdout",
          "text": [
            "tensor([[0.1503, 0.4697, 0.7025, 0.8417, 0.5644, 0.1725, 0.6065],\n",
            "        [0.7304, 0.3348, 0.0547, 0.5455, 0.0254, 0.2443, 0.6253],\n",
            "        [0.8699, 0.2439, 0.6019, 0.8283, 0.9492, 0.8377, 0.5708],\n",
            "        [0.7256, 0.1890, 0.0156, 0.9410, 0.5448, 0.1695, 0.3351],\n",
            "        [0.4069, 0.8980, 0.9807, 0.8416, 0.3315, 0.4566, 0.1129],\n",
            "        [0.2086, 0.8026, 0.5497, 0.8119, 0.2169, 0.3110, 0.0540],\n",
            "        [0.9250, 0.6819, 0.7341, 0.6490, 0.7592, 0.0344, 0.8357]])\n"
          ]
        }
      ]
    },
    {
      "cell_type": "markdown",
      "source": [
        "### 2. Perform a matrix multiplication on the tensor from 2 with another random tensor with shape (1, 7) (hint: you may have to transpose the second tensor)."
      ],
      "metadata": {
        "id": "Hjjbxy1Sh6Gh"
      }
    },
    {
      "cell_type": "code",
      "source": [
        "rt1=t.rand(7,7)\n",
        "rt2=t.rand(1,7)\n",
        "rtm=t.matmul(rt1,rt2.T)\n",
        "rtm"
      ],
      "metadata": {
        "colab": {
          "base_uri": "https://localhost:8080/"
        },
        "id": "9AldLPPPhvhQ",
        "outputId": "79c97aad-7213-40d2-d00d-76572d517f7f"
      },
      "execution_count": 6,
      "outputs": [
        {
          "output_type": "execute_result",
          "data": {
            "text/plain": [
              "tensor([[1.7325],\n",
              "        [1.9378],\n",
              "        [1.7859],\n",
              "        [2.1021],\n",
              "        [0.9307],\n",
              "        [1.9536],\n",
              "        [1.1456]])"
            ]
          },
          "metadata": {},
          "execution_count": 6
        }
      ]
    },
    {
      "cell_type": "markdown",
      "source": [
        "### 3. Set the random seed to 0 and do exercises 2 & 3 over again."
      ],
      "metadata": {
        "id": "1ME9d9UhiZUC"
      }
    },
    {
      "cell_type": "code",
      "source": [
        "random_seed=0\n",
        "t.manual_seed(random_seed)\n",
        "print(t.rand(7,7))\n",
        "t.manual_seed(random_seed)\n",
        "t.matmul(t.rand(7,7),t.rand(1,7).T)"
      ],
      "metadata": {
        "colab": {
          "base_uri": "https://localhost:8080/"
        },
        "id": "Z0GuJLoeiT95",
        "outputId": "7828f15d-d1aa-4efd-d2e2-454a4558748f"
      },
      "execution_count": 7,
      "outputs": [
        {
          "output_type": "stream",
          "name": "stdout",
          "text": [
            "tensor([[0.4963, 0.7682, 0.0885, 0.1320, 0.3074, 0.6341, 0.4901],\n",
            "        [0.8964, 0.4556, 0.6323, 0.3489, 0.4017, 0.0223, 0.1689],\n",
            "        [0.2939, 0.5185, 0.6977, 0.8000, 0.1610, 0.2823, 0.6816],\n",
            "        [0.9152, 0.3971, 0.8742, 0.4194, 0.5529, 0.9527, 0.0362],\n",
            "        [0.1852, 0.3734, 0.3051, 0.9320, 0.1759, 0.2698, 0.1507],\n",
            "        [0.0317, 0.2081, 0.9298, 0.7231, 0.7423, 0.5263, 0.2437],\n",
            "        [0.5846, 0.0332, 0.1387, 0.2422, 0.8155, 0.7932, 0.2783]])\n"
          ]
        },
        {
          "output_type": "execute_result",
          "data": {
            "text/plain": [
              "tensor([[1.8542],\n",
              "        [1.9611],\n",
              "        [2.2884],\n",
              "        [3.0481],\n",
              "        [1.7067],\n",
              "        [2.5290],\n",
              "        [1.7989]])"
            ]
          },
          "metadata": {},
          "execution_count": 7
        }
      ]
    }
  ]
}